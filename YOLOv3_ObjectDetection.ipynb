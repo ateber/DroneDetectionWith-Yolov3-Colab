{
 "cells": [
  {
   "cell_type": "markdown",
   "metadata": {},
   "source": [
    "1- Open Anaconda Prompt (for windows -> Start Menu / Anaconda3 / Anaconda Prompt )\n",
    "\n",
    "2- In Anaconda Prompt, type commands to install necessary libraries: \n",
    "\n",
    "    \" pip install opencv-python \" \n",
    "     \n",
    "      OR\n",
    "         \n",
    "    \" pip install opencv-contrib-python \" (it includes all OpenCV functionality and is RECOMMENDED ! )\n",
    "     \n",
    "    Note: You DO NOT want to install both opencv-python and opencv-contrib-python — pick ONE of them.\n",
    "\n",
    "Source : https://pysource.com/2020/04/02/train-yolo-to-detect-a-custom-object-online-with-free-gpu/\n"
   ]
  },
  {
   "cell_type": "code",
   "execution_count": 1,
   "metadata": {},
   "outputs": [],
   "source": [
    "import cv2\n",
    "import numpy as np\n",
    "import glob\n",
    "import random"
   ]
  },
  {
   "cell_type": "code",
   "execution_count": 2,
   "metadata": {},
   "outputs": [],
   "source": [
    "# Darknet ile eğittimiz ağırlıkları \"WEIGHTS\" klasörüne taşıyoruz ve ağırlığın ismini \"weight\" değişkenine yazıyoruz\n",
    "\n",
    "weight=\"yolov3_training_7000.weights\"\n",
    "cfg=\"yolov3_testing.cfg\"\n",
    "net = cv2.dnn.readNet(\"WEIGHTS/\"+weight, \"CFGS/\"+cfg)     # Networku oluşturuyor."
   ]
  },
  {
   "cell_type": "code",
   "execution_count": 3,
   "metadata": {},
   "outputs": [],
   "source": [
    "# Sınıf ismini yazıyoruz. Bizim sadece bir sınıfımız vardı(Drone) ve sınıf numarası ise 0 dır.\n",
    "# Buradaki sınıf ismi tespit edilen nesnenin görüntüde üzerine yazılması içindir. \n",
    "# Etiketleme yaparken bizim tek sınıfımız vardı ve numarası 0 idi. Buradaki \"classes\" listesinin 0.indisine denk gelmektedir.\n",
    "\n",
    "classes = [\"Drone\"]"
   ]
  },
  {
   "cell_type": "code",
   "execution_count": 4,
   "metadata": {},
   "outputs": [],
   "source": [
    "# Test edilecek resimleri \"IMAGES\" klasörüne taşıyın ve resim formatlarını aşağıya yazın.\n",
    "\n",
    "image_fromat=\"jpg\"\n",
    "images_path = glob.glob(\"IMAGES/*.\"+image_fromat)\n"
   ]
  },
  {
   "cell_type": "code",
   "execution_count": 5,
   "metadata": {},
   "outputs": [],
   "source": [
    "layer_names = net.getLayerNames()\n",
    "output_layers = [layer_names[i[0] - 1] for i in net.getUnconnectedOutLayers()] # Networkun çıkış katmanlarını seçiyor\n",
    "colors = np.random.uniform(0, 255, size=(len(classes), 3))   # Class sayısı kadar farklı renkler üretiyor"
   ]
  },
  {
   "cell_type": "code",
   "execution_count": 7,
   "metadata": {},
   "outputs": [
    {
     "name": "stdout",
     "output_type": "stream",
     "text": [
      "0\n",
      "0\n",
      "[[1]]\n",
      "0\n",
      "0\n",
      "[[0]]\n",
      "0\n",
      "[[0]]\n",
      "()\n",
      "0\n",
      "0\n",
      "0\n",
      "0\n",
      "[[2]\n",
      " [3]\n",
      " [0]]\n",
      "0\n",
      "[[0]]\n",
      "0\n",
      "[[0]]\n",
      "0\n",
      "[[0]]\n",
      "0\n",
      "0\n",
      "[[1]]\n",
      "()\n",
      "0\n",
      "0\n",
      "[[1]]\n",
      "()\n",
      "()\n",
      "()\n",
      "()\n"
     ]
    }
   ],
   "source": [
    "# Test edeceğimiz resimlerim yollarını rastgele sıralıyor. Bu her defasında farklı sıralamayla resimleri test etmesi için\n",
    "random.shuffle(images_path)\n",
    "# Resimleri döngüye sokuyor\n",
    "for img_path in images_path:\n",
    "    # resimi yükle\n",
    "    img = cv2.imread(img_path)\n",
    "    #img = cv2.resize(img, None, fx=0.6, fy=0.6)\n",
    "    img = cv2.resize(img , (608,608))  # resmi 608x608 boyutlandırır. Çıktı da bu boyutta olacaktır.\n",
    "\n",
    "    height, width, channels = img.shape\n",
    "\n",
    "    # Obje takibini çalıştır\n",
    "    blob = cv2.dnn.blobFromImage(img, 0.00392, (416, 416), (0, 0, 0), True, crop=False) \n",
    "    net.setInput(blob)\n",
    "    outs = net.forward(output_layers) \n",
    "\n",
    "    # Sonuçları frame yazdırır\n",
    "    class_ids = []\n",
    "    confidences = []\n",
    "    boxes = []\n",
    "    for out in outs:\n",
    "        for detection in out:\n",
    "            scores = detection[5:]\n",
    "            class_id = np.argmax(scores)\n",
    "            confidence = scores[class_id]\n",
    "            if confidence > 0.5:\n",
    "                # Object detected\n",
    "                print(class_id)\n",
    "                center_x = int(detection[0] * width)\n",
    "                center_y = int(detection[1] * height)\n",
    "                w = int(detection[2] * width)\n",
    "                h = int(detection[3] * height)\n",
    "\n",
    "                # Rectangle coordinates\n",
    "                x = int(center_x - w / 2)\n",
    "                y = int(center_y - h / 2)\n",
    "\n",
    "                boxes.append([x, y, w, h])\n",
    "                confidences.append(float(confidence))\n",
    "                class_ids.append(class_id)\n",
    "\n",
    "    indexes = cv2.dnn.NMSBoxes(boxes, confidences, 0.5, 0.4)\n",
    "    print(indexes)\n",
    "    font = cv2.FONT_HERSHEY_PLAIN\n",
    "    for i in range(len(boxes)):\n",
    "        if i in indexes:\n",
    "            x, y, w, h = boxes[i]\n",
    "            label = str(classes[class_ids[i]])\n",
    "            label=label+\" \"+str(round(confidences[i], 3))\n",
    "            color = colors[class_ids[i]] \n",
    "            cv2.rectangle(img, (x, y), (x + w, y + h), color, 2)\n",
    "            cv2.putText(img, label, (x, y -5), font, 1, color, 2)\n",
    "\n",
    "\n",
    "    cv2.imshow(\"Image\", img)\n",
    "    key = cv2.waitKey(0)\n",
    "    if key==27:\n",
    "        break\n",
    "cv2.destroyAllWindows()"
   ]
  },
  {
   "cell_type": "code",
   "execution_count": null,
   "metadata": {},
   "outputs": [],
   "source": []
  },
  {
   "cell_type": "code",
   "execution_count": null,
   "metadata": {},
   "outputs": [],
   "source": []
  }
 ],
 "metadata": {
  "kernelspec": {
   "display_name": "Python 3",
   "language": "python",
   "name": "python3"
  },
  "language_info": {
   "codemirror_mode": {
    "name": "ipython",
    "version": 3
   },
   "file_extension": ".py",
   "mimetype": "text/x-python",
   "name": "python",
   "nbconvert_exporter": "python",
   "pygments_lexer": "ipython3",
   "version": "3.8.3"
  }
 },
 "nbformat": 4,
 "nbformat_minor": 2
}
