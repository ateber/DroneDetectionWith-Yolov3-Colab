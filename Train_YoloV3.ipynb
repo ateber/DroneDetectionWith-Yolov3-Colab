{
 "cells": [
  {
   "cell_type": "markdown",
   "metadata": {
    "id": "VOxT3-BXuBNU"
   },
   "source": [
    "KAYNAK :\n",
    "\n",
    "1-) https://pysource.com/2020/04/02/train-yolo-to-detect-a-custom-object-online-with-free-gpu/                                        \n",
    "2-) https://github.com/AlexeyAB/darknet#how-to-train-to-detect-your-custom-objects                        \n",
    "3-) https://github.com/AlexeyAB/darknet/wiki/CFG-Parameters-in-the-%5Bnet%5D-section                     \n",
    "4-) https://github.com/AlexeyAB/darknet/wiki/CFG-Parameters-in-the-different-layers"
   ]
  },
  {
   "cell_type": "markdown",
   "metadata": {
    "id": "wHBQcQzjD6HJ"
   },
   "source": [
    "**Connect google drive**"
   ]
  },
  {
   "cell_type": "code",
   "execution_count": null,
   "metadata": {
    "colab": {
     "base_uri": "https://localhost:8080/"
    },
    "id": "bwp6NIrsZZFP",
    "outputId": "23a9120e-ad09-4f01-eef9-371c298644f9"
   },
   "outputs": [
    {
     "name": "stdout",
     "output_type": "stream",
     "text": [
      "Sat Nov 28 11:00:40 2020       \n",
      "+-----------------------------------------------------------------------------+\n",
      "| NVIDIA-SMI 455.38       Driver Version: 418.67       CUDA Version: 10.1     |\n",
      "|-------------------------------+----------------------+----------------------+\n",
      "| GPU  Name        Persistence-M| Bus-Id        Disp.A | Volatile Uncorr. ECC |\n",
      "| Fan  Temp  Perf  Pwr:Usage/Cap|         Memory-Usage | GPU-Util  Compute M. |\n",
      "|                               |                      |               MIG M. |\n",
      "|===============================+======================+======================|\n",
      "|   0  Tesla T4            Off  | 00000000:00:04.0 Off |                    0 |\n",
      "| N/A   47C    P8     9W /  70W |      0MiB / 15079MiB |      0%      Default |\n",
      "|                               |                      |                 ERR! |\n",
      "+-------------------------------+----------------------+----------------------+\n",
      "                                                                               \n",
      "+-----------------------------------------------------------------------------+\n",
      "| Processes:                                                                  |\n",
      "|  GPU   GI   CI        PID   Type   Process name                  GPU Memory |\n",
      "|        ID   ID                                                   Usage      |\n",
      "|=============================================================================|\n",
      "|  No running processes found                                                 |\n",
      "+-----------------------------------------------------------------------------+\n"
     ]
    }
   ],
   "source": [
    "# Üstteki sekmeden Düzenle > Not defteri Ayarları na girin. Açılan pencereden Donanım hızlandırıcıyı \"GPU\" olarak seçin ve kaydete tıklayın.\n",
    "# Bize tahsis edilen ekran kartını kontrol edelim. Ekran kartı modelini ve bize ayrılan ram miktarını görebilirsniz.\n",
    "# ! işareti ile linux komutlarını çalıştırıyoruz. Default olarak ise \"/content\" dizini içerisinde başlıyor. Bu ortamda çalışırken dosyalarımızı genellikle buraya yükleriz.\n",
    "!nvidia-smi"
   ]
  },
  {
   "cell_type": "markdown",
   "metadata": {
    "id": "-49VdrN2kZ0k"
   },
   "source": [
    "Google drive mızı colab ortamına bağlamak için aşağıdaki işlemleri gerçekleştirmemiz lazım"
   ]
  },
  {
   "cell_type": "code",
   "execution_count": null,
   "metadata": {
    "id": "9e9ZW3sqMEPO"
   },
   "outputs": [],
   "source": [
    "from google.colab import drive\n",
    "drive.mount('/content/gdrive')  # size bir link verecektir. Gmail hesabına girip, gerekli izinleri verdikten sonra size bir kod verecektir. Verilen kodu aşağıda açılacak olan kutucuğa yapıştırıp entere basın.\n",
    "!ln -s /content/gdrive/My\\ Drive/ /mydrive   # Drive mıza \"/mydrive\" diyerek ulaşacağız. Çünkü bu yolu bağladık. Default olarak \"/content/gdrive/My\\ Drive/\" şeklinde ulaşılıyor.\n",
    "!ls /mydrive  # drive daki verilerimizi listeler. Kontrol etmek için yapılan bir kod parçası"
   ]
  },
  {
   "cell_type": "markdown",
   "metadata": {
    "id": "t7utW4in4azV"
   },
   "source": [
    "\n",
    "\n",
    "**1) Clone the Darknet**\n",
    "\n"
   ]
  },
  {
   "cell_type": "code",
   "execution_count": null,
   "metadata": {
    "colab": {
     "base_uri": "https://localhost:8080/"
    },
    "id": "e03U7Zi-qMr2",
    "outputId": "bd2649a2-a22e-41aa-8e7e-50e51daf0717"
   },
   "outputs": [
    {
     "name": "stdout",
     "output_type": "stream",
     "text": [
      "Cloning into 'darknet'...\n",
      "remote: Enumerating objects: 14479, done.\u001b[K\n",
      "remote: Total 14479 (delta 0), reused 0 (delta 0), pack-reused 14479\u001b[K\n",
      "Receiving objects: 100% (14479/14479), 13.16 MiB | 22.81 MiB/s, done.\n",
      "Resolving deltas: 100% (9849/9849), done.\n"
     ]
    }
   ],
   "source": [
    "!git clone https://github.com/AlexeyAB/darknet # Verilerimizi Darknet frameworku üzerinde eğiteceğiz. Bunu çalıştırdak sonra ilgili dizinde \"darknet\" klasörü oluşacaktır. "
   ]
  },
  {
   "cell_type": "markdown",
   "metadata": {
    "id": "7gDOF3mU-TAn"
   },
   "source": [
    "**2) Compile Darknet using Nvidia GPU**\n"
   ]
  },
  {
   "cell_type": "code",
   "execution_count": null,
   "metadata": {
    "id": "5H-Taj06Tw1c"
   },
   "outputs": [],
   "source": [
    "# Biz şuan \"/content\" içerisindeyiz. İndirdiğimiz darknet frameworku bu dizine kaydedildi.\n",
    "# cd deyip darknet klasörüne giriyoruz. burada \"makefile\" dosyamız var. Aşağıdaki kodlar (!sed) bu makefile içindeki değerleri değiştirmeye yarıyor. \n",
    "# \"make\" komutu makefile dosyasına göre dosyaları birbirine bağlayan bir araçtır. Gerekli ayarları yapmak için aşağıdaki kodları  çalıştırın. \n",
    "%cd darknet\n",
    "!sed -i 's/OPENCV=0/OPENCV=1/' Makefile\n",
    "!sed -i 's/GPU=0/GPU=1/' Makefile\n",
    "!sed -i 's/CUDNN=0/CUDNN=1/' Makefile\n",
    "!sed -i 's/CUDNN_HALF=0/CUDNN_HALF=1/' Makefile\n",
    "!make"
   ]
  },
  {
   "cell_type": "markdown",
   "metadata": {
    "id": "gAOLtA_qI9vF"
   },
   "source": [
    "**3) Configure Darknet network for training YOLO V3**"
   ]
  },
  {
   "cell_type": "code",
   "execution_count": null,
   "metadata": {
    "id": "s-RpscgU853t"
   },
   "outputs": [],
   "source": [
    "# darknet klasörü içerisindeydik. Bu klasör içerisinde \".cfg\" dosyalarının bulunduğu cfg klasörümüz var.\n",
    "#  Biz kendi konfigrasyon ayarlarımızı yapcağımız için cfg klasörü içerisinden \"yolov3.cfg\" adlı dosyayı yine cfg dizinine \"yolov3_training.cfg\" adıyla klonluyoruz\n",
    "!cp cfg/yolov3.cfg cfg/yolov3_training.cfg"
   ]
  },
  {
   "cell_type": "code",
   "execution_count": null,
   "metadata": {
    "id": "5ZgVQRop_vwR"
   },
   "outputs": [],
   "source": [
    "#Kendi ayarlarımızı yapmak için \"yolov3_training.cfg\" içerisinde bazı bilgileri değiştirmemiz gerekiyor\n",
    "# batch -> her döngüde işlenecek resim sayısını belirtir\n",
    "# subdivisions -> batch, bu kadar çok \"bloğa\" bölünmüştür. Bir bloğun görüntüleri gpu üzerinde paralel olarak işlenir.\n",
    "# max_batches -> toplam iterasyon sayımızı belirler.\n",
    "# classes yazan yere class(sınıf) sayımızı giriyoruz. Örneğin biz sadece drone tespit edeceğimizden ilgili yerlere \"1\" yazdık \n",
    "# filters ayarını ise şu formüle göre yazın -> (classes+5)*3 . Bizim 1 sınıfımız olduğundan (5+1)*3= 18 yazdık. \n",
    "!sed -i 's/batch=1/batch=64/' cfg/yolov3_training.cfg\n",
    "!sed -i 's/subdivisions=1/subdivisions=16/' cfg/yolov3_training.cfg\n",
    "!sed -i 's/max_batches = 500200/max_batches = 30000/' cfg/yolov3_training.cfg\n",
    "!sed -i '610 s@classes=80@classes=1@' cfg/yolov3_training.cfg\n",
    "!sed -i '696 s@classes=80@classes=1@' cfg/yolov3_training.cfg\n",
    "!sed -i '783 s@classes=80@classes=1@' cfg/yolov3_training.cfg\n",
    "!sed -i '603 s@filters=255@filters=18@' cfg/yolov3_training.cfg\n",
    "!sed -i '689 s@filters=255@filters=18@' cfg/yolov3_training.cfg\n",
    "!sed -i '776 s@filters=255@filters=18@' cfg/yolov3_training.cfg"
   ]
  },
  {
   "cell_type": "code",
   "execution_count": null,
   "metadata": {
    "id": "nscRN-X2Mr3d"
   },
   "outputs": [],
   "source": [
    "# Daha önceden \"/mydrive\" yolunu drive'mızın yolu olduğunu söylemiştik. Aşağıdaki komut drive'a \"yolov3\" adında klasör oluşturacaktır\n",
    "# Eğer daha önceden oluşturmuşsanız çalıştırsanız da çalıştırmasanızda sorun olmayacaktır\n",
    "# Bu klasörü oluşturmak önemlidir.Çünkü eğitim esnasında veya bsonunda çıkan ağırlıklarımızı drive'a kayededeceğiz. Kayıt için ileride \"/mydrive/yolov3\" yolunu vereceğiz\n",
    "\n",
    "Create folder on google drive so that we can save there the weights\n",
    "!mkdir \"/mydrive/yolov3\""
   ]
  },
  {
   "cell_type": "code",
   "execution_count": null,
   "metadata": {
    "id": "7AIBw_psIclz"
   },
   "outputs": [],
   "source": [
    "# darknet dizini içerisindeydik.\n",
    "\n",
    "# İlk kod darknet/data dizini çerisine \"obj.names\" adında bir dosya oluşturacak, içerisine \"Drone\" yazdıracaktır\n",
    "# \"obj.names\" dosyası bizim nesne takibindeki sınıflarımızın isimlerini tutatan dosyadır.\n",
    "\n",
    "# ikinci kod ise darknet/data dizini çerisine \"obj.data\" adında bir dosya oluşturacaktır. Bu dosyayanın içerisinde aşağıdaki bilgileri kaydecektir.\n",
    "# \"obj.data\" dosyasında: \n",
    "#    \"classes= 1\" sınıf sayısı belirtir.\n",
    "#    \"train  = data/train.txt\" eğitim verilerinin tutulduğu dosyayının yolunu veriyoruz. \"train.txt\" ise eğitim için ayrılan resimlerin dizinlerini tutan dosyadır.\n",
    "#    \"valid  = data/test.txt\"  test verilerinin tutulduğu dosyayının yolunu veriyoruz. \"test.txt\" ise test için ayrılan resimlerin dizinlerini tutan dosyadır.\n",
    "#    \"backup = /mydrive/yolov3\" ağırlıkların kaydedileceği yolu belirliyoruz. Biz Drive'mıza kaydedeceğimiz yolu verdik. Drive'mızdaki yolov3 klasörüne kaydedilecek.\n",
    "\n",
    "# üçüncü kod ise \"data\" dizinine \"obj\" klasörünü oluşturuyor. Bu \"obj\" klasörüne ileride eğitim ve test için hazırladğımız resimlerimizi ve txt dosyalarını koyacağız.\n",
    "\n",
    "!echo \"Drone\" > data/obj.names \n",
    "!echo -e 'classes= 1\\ntrain  = data/train.txt\\nvalid  = data/test.txt\\nnames = data/obj.names\\nbackup = /mydrive/yolov3' > data/obj.data\n",
    "!mkdir data/obj"
   ]
  },
  {
   "cell_type": "code",
   "execution_count": null,
   "metadata": {
    "id": "eZlkzFMW7I_N"
   },
   "outputs": [],
   "source": [
    "# Darknetin öneceden oluşturulmuş ağırlıklarını indiriyoruz.\n",
    "# Bu modelin içerisine eğitimdeyken değişen ağırlıklarımızı kaydediyoruz ve eğitim bittiğinde çıkan ağırlıkları kaydediyoruz\n",
    "\n",
    "!wget https://pjreddie.com/media/files/darknet53.conv.74"
   ]
  },
  {
   "cell_type": "code",
   "execution_count": null,
   "metadata": {
    "id": "x_znxNk92oTA"
   },
   "outputs": [],
   "source": [
    "# OPSİYONEL !!!\n",
    "# Daha önce kaydetmiş olduğunuz ağırlıklardan devam etmek istiyorsanız, \n",
    "# aşağıdaki örnekteki gibi kendinize göre ayarlayıp Drive'da kayıtlı olan ağırlıkları darknet klasörü içerisine kopyalayabilrisiniz.\n",
    "#!cp /mydrive/yolov3/yolov3_training_12000.weights ./    #example 1\n",
    "#!cp /mydrive/yolov3/yolov3_training_last.weights ./     #example 2"
   ]
  },
  {
   "cell_type": "markdown",
   "metadata": {
    "id": "9RbVKJjoncW2"
   },
   "source": [
    "**4) Extract Images**\n",
    "\n",
    "The images need to be inside a zip archive called \"images.zip\" and they need to be inside the folder \"yolov3\" on Google Drive"
   ]
  },
  {
   "cell_type": "code",
   "execution_count": null,
   "metadata": {
    "id": "jhb5nZvsQ_96"
   },
   "outputs": [],
   "source": [
    "# Hala darknet dizini içerisindeyiz.\n",
    "# Eğitim için hazırlanan resim ve txt dosyalarını rarlayıp \"images.rar\" adında Drivemıza yükledikten sonra,\n",
    "# unrar deyip \"x\" den sonra drive'mızın yolunu verip \"-d\" den sonra ise buradaki darknet dizini içerisindeki \"data/obj\" dizinini veriyoruz.\n",
    "# Yani Drive'daki rar içerisindekileri \"data\" klasörü içerisindeki \"obj\" klasörünün içerisine çıkarıyoruz.\n",
    "\n",
    "!unrar x /mydrive/Colab\\ Notebooks/images.rar -d data/obj"
   ]
  },
  {
   "cell_type": "markdown",
   "metadata": {
    "id": "aQC17Z4K6O5c"
   },
   "source": [
    "NOT : Benim sıkıştırdığım dosyalar \"images\" klasörü altında geldi. Bu yüzden benim resimlerim \"data/obj/images/\" diznin içerisinde saklanıyor. İlerleyen aşamalarda ben \"data/obj/images/\" yolunu kullanacağım. Siz de gerekli kontrolleri yaptıktan sonra kendi yolunuza göre aşağıdaki kodları değiştirin"
   ]
  },
  {
   "cell_type": "code",
   "execution_count": null,
   "metadata": {
    "id": "DGUyXxeYX0IP"
   },
   "outputs": [],
   "source": [
    "# OPSİYONEL! Eğer nesne takibinde tek bir sınıf kullanılıyorsa ve hatalar varsa !!\n",
    "# Eğerki resimlerin açıklamalarının (txt dosyalarını) içerisinde kordinatları verirken farklı sınıflar vermişseniz onları tek sınıfa göre düzeltir\n",
    "# Örneğin   1 0.1 0.1 0.3 0.3 -> 0 0.1 0.1 0.3 0.3 \n",
    "#           5 0.4 0.4 0.6 0.6 -> 0 0.4 0.4 0.6 0.6  olarak değiştirir. Yani başındaki sayıyı 0 yapar. Çünkü bizim tek sınıfımız bu yüzden 0 olmalı.\n",
    "# Dikkat!  \"txt_file_paths = glob.glob(r\"data/obj/images/*.txt\") \" satırına dikkat edin. Buradaki yol sizin resimlerinizin olduğu yol olsun.\n",
    "\n",
    "\n",
    "import glob\n",
    "import os\n",
    "import re\n",
    "\n",
    "txt_file_paths = glob.glob(r\"data/obj/images/*.txt\")   # \"data/obj/images/\" yolunu kontrol edin.\n",
    "for i, file_path in enumerate(txt_file_paths):\n",
    "    # get image size\n",
    "    with open(file_path, \"r\") as f_o:\n",
    "        lines = f_o.readlines()\n",
    "\n",
    "        text_converted = []\n",
    "        for line in lines:\n",
    "           # print(line)\n",
    "            numbers = re.findall(\"[0-9.]+\", line)\n",
    "            print(numbers)\n",
    "            if numbers:\n",
    "\n",
    "                # Define coordinates\n",
    "                text = \"{} {} {} {} {}\".format(0, numbers[1], numbers[2], numbers[3], numbers[4])\n",
    "                text_converted.append(text)\n",
    "                print(i, file_path)\n",
    "                print(text+'\\n')\n",
    "        # Write file\n",
    "        with open(file_path, 'w') as fp:\n",
    "            for item in text_converted:\n",
    "                fp.writelines(\"%s\\n\" % item)"
   ]
  },
  {
   "cell_type": "code",
   "execution_count": null,
   "metadata": {
    "id": "5I_0ht7ITMUu"
   },
   "outputs": [],
   "source": [
    "# Hala darknet dizini içerisindeyiz.\n",
    "# Bu kod ilgili dizindeki her bir resmin dizini+isimi+uzantısı olacak şekilde listesini çıkarıyor \n",
    "\n",
    "import glob\n",
    "images_list = glob.glob(\"data/obj/images/*.jpg\")  # \"data/obj/images/\" yolunu kontrol edin.\n",
    "print(images_list)\n",
    "print(len(images_list))"
   ]
  },
  {
   "cell_type": "code",
   "execution_count": null,
   "metadata": {
    "id": "EzygoAtMSnon"
   },
   "outputs": [],
   "source": [
    "# Hala darknet dizini içerisindeyiz.\n",
    "# Yukarıdaki listeyi darknet klasörü içerisindeki \"data\" klasörüne \"train.txt\" olarak yazıdırıyoruz. yani train.txt içerisinde resimlerin yolları mevcut.\n",
    "# Darknet eğitimde kullanacağı resimleri ve açıklamalarını bu \"train.txt\" içerisindeki resimlerin yolarından(path) seçip kullanıyor.\n",
    "# !! Hatırlayacak olursanız \"data\" dizini içerisinde \"obj.data\" dosyasını oluştrurken \"train.txt\" nin yolunu belirtmiştik \n",
    "\n",
    "file = open(\"data/train.txt\", \"w\") \n",
    "file.write(\"\\n\".join(images_list)) \n",
    "file.close() "
   ]
  },
  {
   "cell_type": "markdown",
   "metadata": {
    "id": "1iaGmORxmwJT"
   },
   "source": [
    "Eğer ki resimlerinizin bir kısmıını test verisi olarak ayarlayacaksınız aşağıdaki kodu çalıştırın."
   ]
  },
  {
   "cell_type": "code",
   "execution_count": null,
   "metadata": {
    "id": "bUDwRfuEjKHu"
   },
   "outputs": [],
   "source": [
    "# OPSİYONEL!!!\n",
    "# Hala darknet dizini içerisindeyiz.\n",
    "\n",
    "import glob \n",
    "\n",
    "# Fotoğrafların yüzde kaçını test verisi olarak kullanacaksınız aşağıdaki değeri ona göre değiştirin.\n",
    "percentage_test = 15;\n",
    "\n",
    "# \"darknet/data\" dizinin içersine train.txt ve test.txt oluşturuyoruz.\n",
    "file_train = open('data/train.txt', 'w')  \n",
    "file_test = open('data/test.txt', 'w')\n",
    "\n",
    "# Ayrıştırma işlemini başlatıyor , train.txt ve test.txt içerisine kaydediyor\n",
    "counter = 1  \n",
    "index_test = round(100 / percentage_test)  \n",
    "for i in range(len(images_list)):\n",
    "    if counter == index_test:\n",
    "        counter = 1\n",
    "        file_test.write(images_list[i] + \"\\n\")\n",
    "    else:\n",
    "        file_train.write(images_list[i] + \"\\n\")\n",
    "        counter = counter + 1\n",
    "file_train.close() \n",
    "file_test.close()"
   ]
  },
  {
   "cell_type": "markdown",
   "metadata": {
    "id": "CeSiuLrXoAjc"
   },
   "source": [
    "**6) Start the training**"
   ]
  },
  {
   "cell_type": "code",
   "execution_count": null,
   "metadata": {
    "id": "PuQKVdY2DYc8"
   },
   "outputs": [],
   "source": [
    "# İlgili parametreleri girerek Eğitime başlıyoruz. \n",
    "\n",
    "!./darknet detector train data/obj.data cfg/yolov3_training.cfg darknet53.conv.74 -dont_show -map"
   ]
  },
  {
   "cell_type": "code",
   "execution_count": null,
   "metadata": {
    "id": "eajRnnKw3ucr"
   },
   "outputs": [],
   "source": [
    "# OPSİYONEL!!!\n",
    "# Daha öncedeki ağırlık dosyanızdan devam etmek istiyorsanız \"yolov3.conv.53\" yerine \"*.weights\" uzantılı dosyanızın yolu ile değiştirin. \n",
    "\n",
    "#!./darknet detector train data/obj.data cfg/yolov3_training.cfg yolov3_training_last.weights -dont_show -map"
   ]
  },
  {
   "cell_type": "code",
   "execution_count": null,
   "metadata": {
    "id": "NMB_OxLyFTFX"
   },
   "outputs": [],
   "source": []
  }
 ],
 "metadata": {
  "accelerator": "GPU",
  "colab": {
   "collapsed_sections": [],
   "name": "Train_YoloV3 .ipynb",
   "provenance": []
  },
  "kernelspec": {
   "display_name": "Python 3",
   "language": "python",
   "name": "python3"
  },
  "language_info": {
   "codemirror_mode": {
    "name": "ipython",
    "version": 3
   },
   "file_extension": ".py",
   "mimetype": "text/x-python",
   "name": "python",
   "nbconvert_exporter": "python",
   "pygments_lexer": "ipython3",
   "version": "3.8.3"
  }
 },
 "nbformat": 4,
 "nbformat_minor": 1
}
